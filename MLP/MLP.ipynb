{
  "nbformat": 4,
  "nbformat_minor": 0,
  "metadata": {
    "colab": {
      "provenance": [],
      "collapsed_sections": []
    },
    "kernelspec": {
      "name": "python3",
      "display_name": "Python 3"
    },
    "language_info": {
      "name": "python"
    },
    "accelerator": "GPU",
    "gpuClass": "standard"
  },
  "cells": [
    {
      "cell_type": "markdown",
      "source": [
        "## MNIST"
      ],
      "metadata": {
        "id": "_1ZC50OxxVKT"
      }
    },
    {
      "cell_type": "code",
      "source": [
        "import pandas as pd\n",
        "\n",
        "mnist_csv = pd.read_csv('/content/sample_data/mnist_train_small.csv', header=None, skiprows=1).values"
      ],
      "metadata": {
        "id": "eevxPqo-xWgE"
      },
      "execution_count": null,
      "outputs": []
    },
    {
      "cell_type": "code",
      "source": [
        "print(mnist_csv.shape)\n",
        "print(mnist_csv)"
      ],
      "metadata": {
        "colab": {
          "base_uri": "https://localhost:8080/"
        },
        "id": "WjKm6hV2yjgn",
        "outputId": "1ec71750-ea84-4c79-99fc-a5674ed82c47"
      },
      "execution_count": null,
      "outputs": [
        {
          "output_type": "stream",
          "name": "stdout",
          "text": [
            "(19999, 785)\n",
            "[[5 0 0 ... 0 0 0]\n",
            " [7 0 0 ... 0 0 0]\n",
            " [9 0 0 ... 0 0 0]\n",
            " ...\n",
            " [2 0 0 ... 0 0 0]\n",
            " [9 0 0 ... 0 0 0]\n",
            " [5 0 0 ... 0 0 0]]\n"
          ]
        }
      ]
    },
    {
      "cell_type": "code",
      "source": [
        "from sklearn.model_selection import train_test_split\n",
        "\n",
        "train, test = train_test_split(mnist_csv, test_size=0.3, random_state=1)"
      ],
      "metadata": {
        "id": "_Afbq8_Oy2N1"
      },
      "execution_count": null,
      "outputs": []
    },
    {
      "cell_type": "code",
      "source": [
        "from tensorflow.keras import utils\n",
        "\n",
        "# one-hot 인코딩\n",
        "Y_train, X_train = utils.to_categorical(train[:,0]), train[:,1:]\n",
        "Y_test, X_test = utils.to_categorical(test[:,0]), test[:,1:]\n",
        "\n",
        "print(X_train.shape, Y_train.shape)\n",
        "print(X_test.shape, Y_test.shape)"
      ],
      "metadata": {
        "colab": {
          "base_uri": "https://localhost:8080/"
        },
        "id": "uuCVUuI_0HbL",
        "outputId": "341c0f19-904d-4302-fde4-903caa275292"
      },
      "execution_count": null,
      "outputs": [
        {
          "output_type": "stream",
          "name": "stdout",
          "text": [
            "(13999, 784) (13999, 10)\n",
            "(6000, 784) (6000, 10)\n"
          ]
        }
      ]
    },
    {
      "cell_type": "code",
      "source": [
        "# 정규화 (0-255로 이루어진 데이터를 0-1로 정규화)\n",
        "# min-max\n",
        "\n",
        "X_train_norm = (X_train-0)/(255-0)\n",
        "X_test_norm = (X_test-0)/(255-0)\n",
        "\n",
        "print(Y_train[0])\n",
        "print(X_train_norm[0])"
      ],
      "metadata": {
        "colab": {
          "base_uri": "https://localhost:8080/"
        },
        "id": "HOSqdY0I1To-",
        "outputId": "11882002-c7f9-422d-eb79-1fd4f500b083"
      },
      "execution_count": null,
      "outputs": [
        {
          "output_type": "stream",
          "name": "stdout",
          "text": [
            "[0. 0. 0. 0. 1. 0. 0. 0. 0. 0.]\n",
            "[0.         0.         0.         0.         0.         0.\n",
            " 0.         0.         0.         0.         0.         0.\n",
            " 0.         0.         0.         0.         0.         0.\n",
            " 0.         0.         0.         0.         0.         0.\n",
            " 0.         0.         0.         0.         0.         0.\n",
            " 0.         0.         0.         0.         0.         0.\n",
            " 0.         0.         0.         0.         0.         0.\n",
            " 0.         0.         0.         0.         0.         0.\n",
            " 0.         0.         0.         0.         0.         0.\n",
            " 0.         0.         0.         0.         0.         0.\n",
            " 0.         0.         0.         0.         0.         0.\n",
            " 0.         0.         0.         0.         0.         0.\n",
            " 0.         0.         0.         0.         0.         0.\n",
            " 0.         0.         0.         0.         0.         0.\n",
            " 0.         0.         0.         0.         0.         0.\n",
            " 0.         0.         0.         0.         0.         0.\n",
            " 0.         0.         0.         0.         0.         0.\n",
            " 0.         0.         0.         0.         0.         0.\n",
            " 0.         0.         0.         0.         0.         0.\n",
            " 0.         0.         0.         0.         0.         0.\n",
            " 0.         0.         0.         0.         0.         0.\n",
            " 0.         0.         0.         0.         0.         0.\n",
            " 0.         0.         0.         0.         0.         0.\n",
            " 0.         0.         0.         0.         0.         0.\n",
            " 0.         0.         0.         0.         0.         0.\n",
            " 0.         0.         0.         0.         0.         0.\n",
            " 0.         0.         0.15294118 0.90980392 0.61568627 0.\n",
            " 0.         0.         0.         0.         0.         0.\n",
            " 0.         0.         0.         0.         0.         0.\n",
            " 0.         0.         0.         0.         0.         0.\n",
            " 0.         0.         0.         0.01568627 0.09803922 0.02745098\n",
            " 0.55686275 0.99215686 0.34117647 0.         0.         0.\n",
            " 0.         0.         0.         0.         0.         0.\n",
            " 0.         0.         0.         0.         0.         0.\n",
            " 0.         0.         0.         0.         0.         0.\n",
            " 0.01568627 0.26666667 0.99215686 0.28235294 0.76078431 0.99215686\n",
            " 0.14117647 0.         0.         0.         0.         0.\n",
            " 0.         0.         0.         0.         0.         0.\n",
            " 0.         0.         0.         0.         0.         0.\n",
            " 0.         0.         0.         0.10196078 0.49803922 0.99215686\n",
            " 0.95686275 0.38823529 0.91764706 0.99215686 0.14117647 0.\n",
            " 0.         0.         0.         0.         0.         0.\n",
            " 0.         0.         0.         0.         0.         0.\n",
            " 0.         0.         0.         0.         0.         0.\n",
            " 0.         0.8627451  0.99215686 0.96078431 0.38823529 0.57647059\n",
            " 0.99215686 0.91372549 0.10588235 0.         0.         0.\n",
            " 0.         0.         0.         0.         0.         0.\n",
            " 0.         0.         0.         0.         0.         0.\n",
            " 0.         0.         0.         0.1254902  0.50980392 0.99607843\n",
            " 0.96470588 0.38039216 0.         0.71372549 0.99215686 0.65882353\n",
            " 0.         0.         0.         0.         0.         0.\n",
            " 0.         0.         0.         0.         0.         0.\n",
            " 0.         0.         0.         0.         0.         0.\n",
            " 0.29019608 0.84313725 0.99215686 0.98039216 0.37254902 0.\n",
            " 0.         0.71372549 0.99215686 0.27843137 0.         0.\n",
            " 0.         0.         0.         0.         0.         0.\n",
            " 0.         0.         0.         0.         0.         0.\n",
            " 0.         0.         0.10980392 0.5372549  0.97254902 0.99215686\n",
            " 0.99215686 0.36078431 0.         0.         0.0745098  0.81960784\n",
            " 0.88235294 0.11764706 0.         0.         0.         0.\n",
            " 0.         0.         0.         0.         0.         0.\n",
            " 0.         0.         0.         0.         0.         0.42352941\n",
            " 0.92941176 0.99215686 0.99215686 0.80784314 0.11372549 0.\n",
            " 0.         0.         0.19215686 0.99215686 0.70588235 0.\n",
            " 0.         0.         0.         0.         0.         0.\n",
            " 0.         0.         0.         0.         0.         0.\n",
            " 0.         0.07058824 0.56470588 0.98039216 0.99215686 0.99215686\n",
            " 0.58431373 0.07058824 0.         0.         0.         0.\n",
            " 0.64313725 0.99215686 0.70588235 0.         0.         0.\n",
            " 0.         0.         0.         0.         0.         0.\n",
            " 0.         0.         0.         0.         0.05098039 0.81960784\n",
            " 0.99607843 0.99607843 0.99607843 0.99607843 0.58823529 0.74901961\n",
            " 0.52156863 0.27843137 0.05098039 0.18823529 1.         0.99607843\n",
            " 0.4627451  0.         0.         0.         0.         0.\n",
            " 0.         0.         0.         0.         0.         0.\n",
            " 0.         0.         0.08627451 0.95686275 0.99215686 0.99215686\n",
            " 0.99215686 0.99215686 0.99215686 0.99215686 0.99215686 0.99607843\n",
            " 0.99215686 0.99215686 0.99215686 0.99215686 0.67058824 0.56862745\n",
            " 0.1254902  0.         0.         0.         0.         0.\n",
            " 0.         0.         0.         0.         0.         0.\n",
            " 0.         0.23529412 0.37647059 0.37647059 0.37647059 0.37647059\n",
            " 0.37647059 0.80784314 0.85098039 0.85490196 0.93333333 0.99215686\n",
            " 0.99215686 0.99215686 0.99215686 0.99215686 0.79607843 0.04705882\n",
            " 0.         0.         0.         0.         0.         0.\n",
            " 0.         0.         0.         0.         0.         0.\n",
            " 0.         0.         0.         0.         0.         0.\n",
            " 0.         0.         0.34509804 0.99215686 0.99215686 0.85490196\n",
            " 0.80392157 0.80392157 0.27058824 0.         0.         0.\n",
            " 0.         0.         0.         0.         0.         0.\n",
            " 0.         0.         0.         0.         0.         0.\n",
            " 0.         0.         0.         0.         0.         0.\n",
            " 0.56862745 0.99215686 0.85490196 0.08235294 0.         0.\n",
            " 0.         0.         0.         0.         0.         0.\n",
            " 0.         0.         0.         0.         0.         0.\n",
            " 0.         0.         0.         0.         0.         0.\n",
            " 0.         0.         0.         0.03921569 0.89411765 0.99215686\n",
            " 0.66666667 0.         0.         0.         0.         0.\n",
            " 0.         0.         0.         0.         0.         0.\n",
            " 0.         0.         0.         0.         0.         0.\n",
            " 0.         0.         0.         0.         0.         0.\n",
            " 0.         0.43529412 0.99215686 0.99215686 0.32941176 0.\n",
            " 0.         0.         0.         0.         0.         0.\n",
            " 0.         0.         0.         0.         0.         0.\n",
            " 0.         0.         0.         0.         0.         0.\n",
            " 0.         0.         0.         0.         0.         0.70588235\n",
            " 0.99215686 0.99215686 0.32941176 0.         0.         0.\n",
            " 0.         0.         0.         0.         0.         0.\n",
            " 0.         0.         0.         0.         0.         0.\n",
            " 0.         0.         0.         0.         0.         0.\n",
            " 0.         0.         0.         0.99607843 0.99215686 0.8627451\n",
            " 0.03137255 0.         0.         0.         0.         0.\n",
            " 0.         0.         0.         0.         0.         0.\n",
            " 0.         0.         0.         0.         0.         0.\n",
            " 0.         0.         0.         0.         0.         0.\n",
            " 0.         0.99607843 0.72156863 0.21960784 0.         0.\n",
            " 0.         0.         0.         0.         0.         0.\n",
            " 0.         0.         0.         0.         0.         0.\n",
            " 0.         0.         0.         0.         0.         0.\n",
            " 0.         0.         0.         0.         0.         0.\n",
            " 0.         0.         0.         0.         0.         0.\n",
            " 0.         0.         0.         0.         0.         0.\n",
            " 0.         0.         0.         0.         0.         0.\n",
            " 0.         0.         0.         0.         0.         0.\n",
            " 0.         0.         0.         0.         0.         0.\n",
            " 0.         0.         0.         0.         0.         0.\n",
            " 0.         0.         0.         0.         0.         0.\n",
            " 0.         0.         0.         0.         0.         0.\n",
            " 0.         0.         0.         0.         0.         0.\n",
            " 0.         0.         0.         0.         0.         0.\n",
            " 0.         0.         0.         0.         0.         0.\n",
            " 0.         0.         0.         0.        ]\n"
          ]
        }
      ]
    },
    {
      "cell_type": "code",
      "source": [
        "# 시각화\n",
        "%matplotlib inline\n",
        "import matplotlib.pyplot as plt\n",
        "import numpy as np\n",
        "\n",
        "plt.imshow(np.reshape(X_train_norm[0], (28,28)), cmap=plt.cm.Blues)"
      ],
      "metadata": {
        "colab": {
          "base_uri": "https://localhost:8080/",
          "height": 284
        },
        "id": "qK7uuG763U7m",
        "outputId": "c9d6155c-f279-402e-915f-d209ccafac5b"
      },
      "execution_count": null,
      "outputs": [
        {
          "output_type": "execute_result",
          "data": {
            "text/plain": [
              "<matplotlib.image.AxesImage at 0x7f791c2aa390>"
            ]
          },
          "metadata": {},
          "execution_count": 33
        },
        {
          "output_type": "display_data",
          "data": {
            "text/plain": [
              "<Figure size 432x288 with 1 Axes>"
            ],
            "image/png": "[encoded data removed]"
          },
          "metadata": {
            "needs_background": "light"
          }
        }
      ]
    },
    {
      "cell_type": "code",
      "source": [
        "from tensorflow.keras.models import Sequential\n",
        "from tensorflow.keras.layers import Dense\n",
        "from tensorflow.keras.optimizers import SGD\n",
        "from tensorflow.keras.layers import Dropout\n",
        "\n",
        "print(len(X_train_norm[0]))\n",
        "\n",
        "mlp_model = Sequential()\n",
        "mlp_model.add(Dense(512, activation='relu', input_shape=(784,)))\n",
        "mlp_model.add(Dense(256, activation='relu'))\n",
        "mlp_model.add(Dropout(0.3))\n",
        "mlp_model.add(Dense(128, activation='relu'))\n",
        "mlp_model.add(Dense(10, activation='softmax'))\n",
        "mlp_model.summary()\n",
        "\n",
        "# 유닛수를 조절하면 학습시간, 정확도에 영향\n",
        "# 너무 작으면 속도는 빨라지는데 정확도는 너무 떨어짐\n",
        "# 너무 크면 속도가 느려지고 정확도는 너무 높아짐"
      ],
      "metadata": {
        "colab": {
          "base_uri": "https://localhost:8080/"
        },
        "id": "OoqU0Kyu4JS-",
        "outputId": "140cc356-8832-4424-884a-036fdb67dff3"
      },
      "execution_count": null,
      "outputs": [
        {
          "output_type": "stream",
          "name": "stdout",
          "text": [
            "784\n",
            "Model: \"sequential_20\"\n",
            "_________________________________________________________________\n",
            " Layer (type)                Output Shape              Param #   \n",
            "=================================================================\n",
            " dense_82 (Dense)            (None, 512)               401920    \n",
            "                                                                 \n",
            " dense_83 (Dense)            (None, 256)               131328    \n",
            "                                                                 \n",
            " dropout_1 (Dropout)         (None, 256)               0         \n",
            "                                                                 \n",
            " dense_84 (Dense)            (None, 128)               32896     \n",
            "                                                                 \n",
            " dense_85 (Dense)            (None, 10)                1290      \n",
            "                                                                 \n",
            "=================================================================\n",
            "Total params: 567,434\n",
            "Trainable params: 567,434\n",
            "Non-trainable params: 0\n",
            "_________________________________________________________________\n"
          ]
        }
      ]
    },
    {
      "cell_type": "code",
      "source": [
        "sgd = SGD(lr=0.005)\n",
        "mlp_model.compile(loss='categorical_crossentropy', optimizer='adam', metrics=['accuracy'])"
      ],
      "metadata": {
        "id": "HDktlHxC8YYq"
      },
      "execution_count": null,
      "outputs": []
    },
    {
      "cell_type": "code",
      "source": [
        "# verbose : 0 (출력 X) / 1 (모든 과정 출력) / 2 (epochs 끝날 때마다 출력)\n",
        "# val_loss, val_accuracy : train에 대해서 학습을 하고 test에 대해서는 어떻게 나오는지\n",
        "# batch : 예를 들어, 5면 데이터를 5개씩 묶어서 학습을 시켜 / 크면 클수록 모델이 빨리 학습하지만 그래픽이 많이 필요해짐(한 번에 많은 데이터를 학습해야되니까)\n",
        "\n",
        "model_history = mlp_model.fit(X_train_norm, Y_train, epochs=15, batch_size=256, verbose=2, validation_data=(X_test_norm, Y_test), shuffle=True)"
      ],
      "metadata": {
        "colab": {
          "base_uri": "https://localhost:8080/"
        },
        "id": "gpg2enYP9G82",
        "outputId": "20190909-4da2-433a-a1a2-56f2bffd9e3d"
      },
      "execution_count": null,
      "outputs": [
        {
          "output_type": "stream",
          "name": "stdout",
          "text": [
            "Epoch 1/15\n",
            "55/55 - 1s - loss: 0.6694 - accuracy: 0.8025 - val_loss: 0.2790 - val_accuracy: 0.9162 - 824ms/epoch - 15ms/step\n",
            "Epoch 2/15\n",
            "55/55 - 0s - loss: 0.2376 - accuracy: 0.9294 - val_loss: 0.2032 - val_accuracy: 0.9373 - 242ms/epoch - 4ms/step\n",
            "Epoch 3/15\n",
            "55/55 - 0s - loss: 0.1553 - accuracy: 0.9541 - val_loss: 0.1739 - val_accuracy: 0.9467 - 238ms/epoch - 4ms/step\n",
            "Epoch 4/15\n",
            "55/55 - 0s - loss: 0.1085 - accuracy: 0.9674 - val_loss: 0.1574 - val_accuracy: 0.9507 - 229ms/epoch - 4ms/step\n",
            "Epoch 5/15\n",
            "55/55 - 0s - loss: 0.0785 - accuracy: 0.9756 - val_loss: 0.1434 - val_accuracy: 0.9557 - 243ms/epoch - 4ms/step\n",
            "Epoch 6/15\n",
            "55/55 - 0s - loss: 0.0605 - accuracy: 0.9829 - val_loss: 0.1389 - val_accuracy: 0.9568 - 240ms/epoch - 4ms/step\n",
            "Epoch 7/15\n",
            "55/55 - 0s - loss: 0.0404 - accuracy: 0.9890 - val_loss: 0.1572 - val_accuracy: 0.9535 - 236ms/epoch - 4ms/step\n",
            "Epoch 8/15\n",
            "55/55 - 0s - loss: 0.0340 - accuracy: 0.9909 - val_loss: 0.1442 - val_accuracy: 0.9595 - 245ms/epoch - 4ms/step\n",
            "Epoch 9/15\n",
            "55/55 - 0s - loss: 0.0249 - accuracy: 0.9926 - val_loss: 0.1652 - val_accuracy: 0.9528 - 250ms/epoch - 5ms/step\n",
            "Epoch 10/15\n",
            "55/55 - 0s - loss: 0.0237 - accuracy: 0.9926 - val_loss: 0.1397 - val_accuracy: 0.9625 - 234ms/epoch - 4ms/step\n",
            "Epoch 11/15\n",
            "55/55 - 0s - loss: 0.0150 - accuracy: 0.9958 - val_loss: 0.1485 - val_accuracy: 0.9620 - 238ms/epoch - 4ms/step\n",
            "Epoch 12/15\n",
            "55/55 - 0s - loss: 0.0100 - accuracy: 0.9971 - val_loss: 0.1502 - val_accuracy: 0.9623 - 234ms/epoch - 4ms/step\n",
            "Epoch 13/15\n",
            "55/55 - 0s - loss: 0.0073 - accuracy: 0.9982 - val_loss: 0.1491 - val_accuracy: 0.9633 - 243ms/epoch - 4ms/step\n",
            "Epoch 14/15\n",
            "55/55 - 0s - loss: 0.0105 - accuracy: 0.9971 - val_loss: 0.1695 - val_accuracy: 0.9575 - 227ms/epoch - 4ms/step\n",
            "Epoch 15/15\n",
            "55/55 - 0s - loss: 0.0102 - accuracy: 0.9970 - val_loss: 0.1615 - val_accuracy: 0.9613 - 222ms/epoch - 4ms/step\n"
          ]
        }
      ]
    },
    {
      "cell_type": "code",
      "source": [
        "plt.plot(model_history.history['loss'])\n",
        "plt.plot(model_history.history['val_loss'])\n",
        "plt.title('model loss')\n",
        "plt.ylabel('loss')\n",
        "plt.xlabel('epoch')\n",
        "plt.legend(['train', 'test'], loc='right')\n",
        "plt.show()"
      ],
      "metadata": {
        "colab": {
          "base_uri": "https://localhost:8080/",
          "height": 295
        },
        "id": "j_uUcp0T9tgz",
        "outputId": "2fde3f6d-b92d-4dd3-bfa5-07b5feeb2f37"
      },
      "execution_count": null,
      "outputs": [
        {
          "output_type": "display_data",
          "data": {
            "text/plain": [
              "<Figure size 432x288 with 1 Axes>"
            ],
            "image/png": "[encoded data removed]"
          },
          "metadata": {
            "needs_background": "light"
          }
        }
      ]
    },
    {
      "cell_type": "code",
      "source": [
        "plt.plot(model_history.history['accuracy'])\n",
        "plt.plot(model_history.history['val_accuracy'])\n",
        "plt.title('model_accuracy')\n",
        "plt.ylabel('accuracy')\n",
        "plt.xlabel('epoch')\n",
        "plt.legend(['train', 'test'], loc='right')\n",
        "plt.show()"
      ],
      "metadata": {
        "colab": {
          "base_uri": "https://localhost:8080/",
          "height": 295
        },
        "id": "Nq9v6RQhAxBR",
        "outputId": "7b493048-819f-4edd-a935-2365eb13ff3e"
      },
      "execution_count": null,
      "outputs": [
        {
          "output_type": "display_data",
          "data": {
            "text/plain": [
              "<Figure size 432x288 with 1 Axes>"
            ],
            "image/png": "[encoded data removed]"
          },
          "metadata": {
            "needs_background": "light"
          }
        }
      ]
    },
    {
      "cell_type": "code",
      "source": [
        "from sklearn.metrics import confusion_matrix\n",
        "import itertools\n",
        "\n",
        "def plot_confusion_matrix(model_input, feature, label, class_info):\n",
        "  pred=model_input.predict(feature)\n",
        "  cnf_matrix = confusion_matrix(np.argmax(label, axis=1), np.argmax(pred, axis=1))\n",
        "  plt.figure()\n",
        "  plt.imshow(cnf_matrix, interpolation='nearest', cmap=plt.cm.Blues)\n",
        "  tick_marks = np.arange(len(class_info))\n",
        "  plt.xticks(tick_marks, class_info, rotation=45)\n",
        "  plt.yticks(tick_marks, class_info)\n",
        "  thresh = cnf_matrix.max()/2.\n",
        "\n",
        "  for i, j in itertools.product(range(cnf_matrix.shape[0]), range(cnf_matrix.shape[1])):\n",
        "    plt.text(j, i, cnf_matrix[i, j], horizontalalignment='center', color='white' if cnf_matrix[i, j] > thresh else 'black')\n",
        "    plt.tight_layout()\n",
        "    plt.ylabel('True label')\n",
        "    plt.xlabel('Predicted label')\n",
        "  plt.show()"
      ],
      "metadata": {
        "id": "FakRqyjgBZeg"
      },
      "execution_count": null,
      "outputs": []
    },
    {
      "cell_type": "code",
      "source": [
        "label = ['0', '1', '2', '3', '4', '5', '6', '7', '8', '9']\n",
        "plot_confusion_matrix(mlp_model, X_test_norm, Y_test, class_info=label)"
      ],
      "metadata": {
        "colab": {
          "base_uri": "https://localhost:8080/",
          "height": 316
        },
        "id": "ukYIS_RWEE5Q",
        "outputId": "6ef0ad1e-75c0-4fd9-b85e-63442d523000"
      },
      "execution_count": null,
      "outputs": [
        {
          "output_type": "stream",
          "name": "stdout",
          "text": [
            "188/188 [==============================] - 0s 2ms/step\n"
          ]
        },
        {
          "output_type": "display_data",
          "data": {
            "text/plain": [
              "<Figure size 432x288 with 1 Axes>"
            ],
            "image/png": "[encoded data removed]"
          },
          "metadata": {
            "needs_background": "light"
          }
        }
      ]
    }
  ]
}