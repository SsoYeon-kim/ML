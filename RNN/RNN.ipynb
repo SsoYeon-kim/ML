{
  "nbformat": 4,
  "nbformat_minor": 0,
  "metadata": {
    "colab": {
      "provenance": [],
      "collapsed_sections": []
    },
    "kernelspec": {
      "name": "python3",
      "display_name": "Python 3"
    },
    "language_info": {
      "name": "python"
    },
    "accelerator": "GPU",
    "gpuClass": "standard"
  },
  "cells": [
    {
      "cell_type": "markdown",
      "source": [
        "## RNN (비행기 탑승객 예측 데이터)"
      ],
      "metadata": {
        "id": "Wn6oDhRMGvTb"
      }
    },
    {
      "cell_type": "code",
      "source": [
        "import pandas as pd\n",
        "import numpy as np\n",
        "\n",
        "dataset = pd.read_csv('/content/drive/MyDrive/Colab Notebooks/산기협_교육/Data/international-airline-passengers.csv', usecols=[1], skipfooter=3)\n",
        "data = dataset.values.reshape(-1,1)\n",
        "\n",
        "print(data)"
      ],
      "metadata": {
        "colab": {
          "base_uri": "https://localhost:8080/"
        },
        "id": "fwiL-ZbL4SrN",
        "outputId": "c02a162c-fece-49bf-f63b-97ff7de39519"
      },
      "execution_count": null,
      "outputs": [
        {
          "output_type": "stream",
          "name": "stdout",
          "text": [
            "[[112]\n",
            " [118]\n",
            " [132]\n",
            " [129]\n",
            " [121]\n",
            " [135]\n",
            " [148]\n",
            " [148]\n",
            " [136]\n",
            " [119]\n",
            " [104]\n",
            " [118]\n",
            " [115]\n",
            " [126]\n",
            " [141]\n",
            " [135]\n",
            " [125]\n",
            " [149]\n",
            " [170]\n",
            " [170]\n",
            " [158]\n",
            " [133]\n",
            " [114]\n",
            " [140]\n",
            " [145]\n",
            " [150]\n",
            " [178]\n",
            " [163]\n",
            " [172]\n",
            " [178]\n",
            " [199]\n",
            " [199]\n",
            " [184]\n",
            " [162]\n",
            " [146]\n",
            " [166]\n",
            " [171]\n",
            " [180]\n",
            " [193]\n",
            " [181]\n",
            " [183]\n",
            " [218]\n",
            " [230]\n",
            " [242]\n",
            " [209]\n",
            " [191]\n",
            " [172]\n",
            " [194]\n",
            " [196]\n",
            " [196]\n",
            " [236]\n",
            " [235]\n",
            " [229]\n",
            " [243]\n",
            " [264]\n",
            " [272]\n",
            " [237]\n",
            " [211]\n",
            " [180]\n",
            " [201]\n",
            " [204]\n",
            " [188]\n",
            " [235]\n",
            " [227]\n",
            " [234]\n",
            " [264]\n",
            " [302]\n",
            " [293]\n",
            " [259]\n",
            " [229]\n",
            " [203]\n",
            " [229]\n",
            " [242]\n",
            " [233]\n",
            " [267]\n",
            " [269]\n",
            " [270]\n",
            " [315]\n",
            " [364]\n",
            " [347]\n",
            " [312]\n",
            " [274]\n",
            " [237]\n",
            " [278]\n",
            " [284]\n",
            " [277]\n",
            " [317]\n",
            " [313]\n",
            " [318]\n",
            " [374]\n",
            " [413]\n",
            " [405]\n",
            " [355]\n",
            " [306]\n",
            " [271]\n",
            " [306]\n",
            " [315]\n",
            " [301]\n",
            " [356]\n",
            " [348]\n",
            " [355]\n",
            " [422]\n",
            " [465]\n",
            " [467]\n",
            " [404]\n",
            " [347]\n",
            " [305]\n",
            " [336]\n",
            " [340]\n",
            " [318]\n",
            " [362]\n",
            " [348]\n",
            " [363]\n",
            " [435]\n",
            " [491]\n",
            " [505]\n",
            " [404]\n",
            " [359]\n",
            " [310]\n",
            " [337]\n",
            " [360]\n",
            " [342]\n",
            " [406]\n",
            " [396]\n",
            " [420]\n",
            " [472]\n",
            " [548]\n",
            " [559]\n",
            " [463]\n",
            " [407]\n",
            " [362]\n",
            " [405]\n",
            " [417]\n",
            " [391]\n",
            " [419]\n",
            " [461]\n",
            " [472]\n",
            " [535]\n",
            " [622]\n",
            " [606]\n",
            " [508]\n",
            " [461]\n",
            " [390]\n",
            " [432]]\n"
          ]
        },
        {
          "output_type": "stream",
          "name": "stderr",
          "text": [
            "/usr/local/lib/python3.7/dist-packages/pandas/util/_decorators.py:311: ParserWarning: Falling back to the 'python' engine because the 'c' engine does not support skipfooter; you can avoid this warning by specifying engine='python'.\n",
            "  return func(*args, **kwargs)\n"
          ]
        }
      ]
    },
    {
      "cell_type": "code",
      "source": [
        "from sklearn.preprocessing import normalize\n",
        "\n",
        "data_norm = normalize(data.T, copy=True, norm='max').squeeze(0)\n",
        "print(data_norm.shape)"
      ],
      "metadata": {
        "colab": {
          "base_uri": "https://localhost:8080/"
        },
        "id": "hl9Ao7RG5DVC",
        "outputId": "40c24184-fa2f-4381-99ba-f4c97f48a991"
      },
      "execution_count": null,
      "outputs": [
        {
          "output_type": "stream",
          "name": "stdout",
          "text": [
            "(144,)\n"
          ]
        }
      ]
    },
    {
      "cell_type": "code",
      "source": [
        "# D=12 : 12개로 window\n",
        "# y값은 x12개 이후의 것\n",
        "# 윈도우 사이즈를 바꿔도돼\n",
        "\n",
        "def get_Xy(data, D=5):\n",
        "  X_l, y_l = list(), list()\n",
        "  N = len(data)\n",
        "\n",
        "  assert N > D, 'N should be larger than D, where N in len(data)'\n",
        "\n",
        "  for ii in range(N-D):\n",
        "    X_l.append(data[ii:ii+D])\n",
        "    y_l.append(data[ii+D])\n",
        "  X = np.array(X_l).reshape(N-D, D, 1)\n",
        "  y = np.array(y_l).reshape(N-D, 1)\n",
        "  return X, y\n",
        "\n",
        "X, y = get_Xy(data_norm)\n",
        "print(X.shape, y.shape)"
      ],
      "metadata": {
        "colab": {
          "base_uri": "https://localhost:8080/"
        },
        "id": "zNImOXLt6iAy",
        "outputId": "e6bfaefc-cf7b-4681-bec8-fd0b52c17636"
      },
      "execution_count": null,
      "outputs": [
        {
          "output_type": "stream",
          "name": "stdout",
          "text": [
            "(139, 5, 1) (139, 1)\n"
          ]
        }
      ]
    },
    {
      "cell_type": "code",
      "source": [
        "print(X[0], y[0])"
      ],
      "metadata": {
        "colab": {
          "base_uri": "https://localhost:8080/"
        },
        "id": "rhguyHCo7w2b",
        "outputId": "2bf0252a-8db6-4f81-f8ab-224312c1c592"
      },
      "execution_count": null,
      "outputs": [
        {
          "output_type": "stream",
          "name": "stdout",
          "text": [
            "[[0.18006431]\n",
            " [0.18971061]\n",
            " [0.21221865]\n",
            " [0.2073955 ]\n",
            " [0.19453376]] [0.2170418]\n"
          ]
        }
      ]
    },
    {
      "cell_type": "code",
      "source": [
        "from tensorflow.keras.models import Sequential\n",
        "from tensorflow.keras.layers import InputLayer, LSTM, Dense\n",
        "\n",
        "model = Sequential()\n",
        "model.add(InputLayer(input_shape=X.shape[1:]))\n",
        "model.add(LSTM(10, activation='relu'))\n",
        "model.add(Dense(1, activation='tanh'))\n",
        "model.summary()"
      ],
      "metadata": {
        "colab": {
          "base_uri": "https://localhost:8080/"
        },
        "id": "C8o8cv4E8RhR",
        "outputId": "11e9d8ae-7c33-4e5a-f6d5-6cf0717936a8"
      },
      "execution_count": null,
      "outputs": [
        {
          "output_type": "stream",
          "name": "stderr",
          "text": [
            "WARNING:tensorflow:Layer lstm_3 will not use cuDNN kernels since it doesn't meet the criteria. It will use a generic GPU kernel as fallback when running on GPU.\n"
          ]
        },
        {
          "output_type": "stream",
          "name": "stdout",
          "text": [
            "Model: \"sequential_3\"\n",
            "_________________________________________________________________\n",
            " Layer (type)                Output Shape              Param #   \n",
            "=================================================================\n",
            " lstm_3 (LSTM)               (None, 10)                480       \n",
            "                                                                 \n",
            " dense_2 (Dense)             (None, 1)                 11        \n",
            "                                                                 \n",
            "=================================================================\n",
            "Total params: 491\n",
            "Trainable params: 491\n",
            "Non-trainable params: 0\n",
            "_________________________________________________________________\n"
          ]
        }
      ]
    },
    {
      "cell_type": "code",
      "source": [
        "from sklearn.model_selection import train_test_split\n",
        "\n",
        "# 시계열 예측 : mean_squared_error\n",
        "# 목적에 따라 loss나 matrix가 달라짐\n",
        "# 시계열 데이터에서는 acc를 측정할 수 있는 효율적인 방법이 따로 없음 (맞다 아니다를 판단하기 까다로움)\n",
        "# 분류처럼 어떤것이 정답일 확률을 출력하지 않아도 됨\n",
        "# 딥러닝이 예측한 값과 실제 값이 얼마나 차이가 나는지만 보면 됨\n",
        "\n",
        "X_train, X_test, y_train, y_test = train_test_split(X, y, test_size=0.2, random_state=42)\n",
        "model.compile(optimizer='adam', loss='mean_squared_error')\n",
        "history = model.fit(X_train, y_train, epochs=100, validation_data=(X_test, y_test))"
      ],
      "metadata": {
        "colab": {
          "base_uri": "https://localhost:8080/"
        },
        "id": "qQLhQZke80Vg",
        "outputId": "d3d4ac73-76ba-431f-f3ee-a4a8e7e760b3"
      },
      "execution_count": null,
      "outputs": [
        {
          "output_type": "stream",
          "name": "stdout",
          "text": [
            "Epoch 1/100\n",
            "4/4 [==============================] - 1s 77ms/step - loss: 0.1585 - val_loss: 0.1829\n",
            "Epoch 2/100\n",
            "4/4 [==============================] - 0s 19ms/step - loss: 0.1483 - val_loss: 0.1719\n",
            "Epoch 3/100\n",
            "4/4 [==============================] - 0s 17ms/step - loss: 0.1386 - val_loss: 0.1610\n",
            "Epoch 4/100\n",
            "4/4 [==============================] - 0s 20ms/step - loss: 0.1287 - val_loss: 0.1504\n",
            "Epoch 5/100\n",
            "4/4 [==============================] - 0s 15ms/step - loss: 0.1191 - val_loss: 0.1400\n",
            "Epoch 6/100\n",
            "4/4 [==============================] - 0s 15ms/step - loss: 0.1100 - val_loss: 0.1298\n",
            "Epoch 7/100\n",
            "4/4 [==============================] - 0s 16ms/step - loss: 0.1010 - val_loss: 0.1200\n",
            "Epoch 8/100\n",
            "4/4 [==============================] - 0s 16ms/step - loss: 0.0924 - val_loss: 0.1105\n",
            "Epoch 9/100\n",
            "4/4 [==============================] - 0s 17ms/step - loss: 0.0841 - val_loss: 0.1013\n",
            "Epoch 10/100\n",
            "4/4 [==============================] - 0s 15ms/step - loss: 0.0762 - val_loss: 0.0926\n",
            "Epoch 11/100\n",
            "4/4 [==============================] - 0s 16ms/step - loss: 0.0689 - val_loss: 0.0841\n",
            "Epoch 12/100\n",
            "4/4 [==============================] - 0s 16ms/step - loss: 0.0614 - val_loss: 0.0763\n",
            "Epoch 13/100\n",
            "4/4 [==============================] - 0s 15ms/step - loss: 0.0549 - val_loss: 0.0688\n",
            "Epoch 14/100\n",
            "4/4 [==============================] - 0s 15ms/step - loss: 0.0487 - val_loss: 0.0618\n",
            "Epoch 15/100\n",
            "4/4 [==============================] - 0s 17ms/step - loss: 0.0428 - val_loss: 0.0553\n",
            "Epoch 16/100\n",
            "4/4 [==============================] - 0s 16ms/step - loss: 0.0376 - val_loss: 0.0493\n",
            "Epoch 17/100\n",
            "4/4 [==============================] - 0s 15ms/step - loss: 0.0329 - val_loss: 0.0439\n",
            "Epoch 18/100\n",
            "4/4 [==============================] - 0s 15ms/step - loss: 0.0287 - val_loss: 0.0390\n",
            "Epoch 19/100\n",
            "4/4 [==============================] - 0s 17ms/step - loss: 0.0250 - val_loss: 0.0347\n",
            "Epoch 20/100\n",
            "4/4 [==============================] - 0s 17ms/step - loss: 0.0219 - val_loss: 0.0310\n",
            "Epoch 21/100\n",
            "4/4 [==============================] - 0s 18ms/step - loss: 0.0194 - val_loss: 0.0278\n",
            "Epoch 22/100\n",
            "4/4 [==============================] - 0s 16ms/step - loss: 0.0172 - val_loss: 0.0252\n",
            "Epoch 23/100\n",
            "4/4 [==============================] - 0s 18ms/step - loss: 0.0156 - val_loss: 0.0230\n",
            "Epoch 24/100\n",
            "4/4 [==============================] - 0s 16ms/step - loss: 0.0142 - val_loss: 0.0212\n",
            "Epoch 25/100\n",
            "4/4 [==============================] - 0s 19ms/step - loss: 0.0133 - val_loss: 0.0199\n",
            "Epoch 26/100\n",
            "4/4 [==============================] - 0s 22ms/step - loss: 0.0126 - val_loss: 0.0188\n",
            "Epoch 27/100\n",
            "4/4 [==============================] - 0s 18ms/step - loss: 0.0122 - val_loss: 0.0179\n",
            "Epoch 28/100\n",
            "4/4 [==============================] - 0s 15ms/step - loss: 0.0118 - val_loss: 0.0173\n",
            "Epoch 29/100\n",
            "4/4 [==============================] - 0s 15ms/step - loss: 0.0116 - val_loss: 0.0168\n",
            "Epoch 30/100\n",
            "4/4 [==============================] - 0s 19ms/step - loss: 0.0115 - val_loss: 0.0164\n",
            "Epoch 31/100\n",
            "4/4 [==============================] - 0s 21ms/step - loss: 0.0114 - val_loss: 0.0162\n",
            "Epoch 32/100\n",
            "4/4 [==============================] - 0s 16ms/step - loss: 0.0113 - val_loss: 0.0160\n",
            "Epoch 33/100\n",
            "4/4 [==============================] - 0s 15ms/step - loss: 0.0112 - val_loss: 0.0158\n",
            "Epoch 34/100\n",
            "4/4 [==============================] - 0s 21ms/step - loss: 0.0112 - val_loss: 0.0157\n",
            "Epoch 35/100\n",
            "4/4 [==============================] - 0s 16ms/step - loss: 0.0111 - val_loss: 0.0156\n",
            "Epoch 36/100\n",
            "4/4 [==============================] - 0s 16ms/step - loss: 0.0110 - val_loss: 0.0155\n",
            "Epoch 37/100\n",
            "4/4 [==============================] - 0s 16ms/step - loss: 0.0110 - val_loss: 0.0153\n",
            "Epoch 38/100\n",
            "4/4 [==============================] - 0s 17ms/step - loss: 0.0109 - val_loss: 0.0152\n",
            "Epoch 39/100\n",
            "4/4 [==============================] - 0s 15ms/step - loss: 0.0109 - val_loss: 0.0151\n",
            "Epoch 40/100\n",
            "4/4 [==============================] - 0s 18ms/step - loss: 0.0108 - val_loss: 0.0150\n",
            "Epoch 41/100\n",
            "4/4 [==============================] - 0s 17ms/step - loss: 0.0108 - val_loss: 0.0149\n",
            "Epoch 42/100\n",
            "4/4 [==============================] - 0s 16ms/step - loss: 0.0107 - val_loss: 0.0148\n",
            "Epoch 43/100\n",
            "4/4 [==============================] - 0s 15ms/step - loss: 0.0107 - val_loss: 0.0148\n",
            "Epoch 44/100\n",
            "4/4 [==============================] - 0s 16ms/step - loss: 0.0106 - val_loss: 0.0147\n",
            "Epoch 45/100\n",
            "4/4 [==============================] - 0s 16ms/step - loss: 0.0106 - val_loss: 0.0146\n",
            "Epoch 46/100\n",
            "4/4 [==============================] - 0s 17ms/step - loss: 0.0105 - val_loss: 0.0145\n",
            "Epoch 47/100\n",
            "4/4 [==============================] - 0s 16ms/step - loss: 0.0105 - val_loss: 0.0145\n",
            "Epoch 48/100\n",
            "4/4 [==============================] - 0s 17ms/step - loss: 0.0104 - val_loss: 0.0144\n",
            "Epoch 49/100\n",
            "4/4 [==============================] - 0s 17ms/step - loss: 0.0103 - val_loss: 0.0144\n",
            "Epoch 50/100\n",
            "4/4 [==============================] - 0s 16ms/step - loss: 0.0103 - val_loss: 0.0143\n",
            "Epoch 51/100\n",
            "4/4 [==============================] - 0s 16ms/step - loss: 0.0102 - val_loss: 0.0142\n",
            "Epoch 52/100\n",
            "4/4 [==============================] - 0s 16ms/step - loss: 0.0102 - val_loss: 0.0141\n",
            "Epoch 53/100\n",
            "4/4 [==============================] - 0s 18ms/step - loss: 0.0101 - val_loss: 0.0140\n",
            "Epoch 54/100\n",
            "4/4 [==============================] - 0s 18ms/step - loss: 0.0101 - val_loss: 0.0139\n",
            "Epoch 55/100\n",
            "4/4 [==============================] - 0s 19ms/step - loss: 0.0100 - val_loss: 0.0138\n",
            "Epoch 56/100\n",
            "4/4 [==============================] - 0s 19ms/step - loss: 0.0100 - val_loss: 0.0137\n",
            "Epoch 57/100\n",
            "4/4 [==============================] - 0s 17ms/step - loss: 0.0099 - val_loss: 0.0137\n",
            "Epoch 58/100\n",
            "4/4 [==============================] - 0s 24ms/step - loss: 0.0099 - val_loss: 0.0136\n",
            "Epoch 59/100\n",
            "4/4 [==============================] - 0s 18ms/step - loss: 0.0098 - val_loss: 0.0136\n",
            "Epoch 60/100\n",
            "4/4 [==============================] - 0s 17ms/step - loss: 0.0098 - val_loss: 0.0135\n",
            "Epoch 61/100\n",
            "4/4 [==============================] - 0s 18ms/step - loss: 0.0097 - val_loss: 0.0133\n",
            "Epoch 62/100\n",
            "4/4 [==============================] - 0s 16ms/step - loss: 0.0097 - val_loss: 0.0132\n",
            "Epoch 63/100\n",
            "4/4 [==============================] - 0s 16ms/step - loss: 0.0096 - val_loss: 0.0131\n",
            "Epoch 64/100\n",
            "4/4 [==============================] - 0s 16ms/step - loss: 0.0096 - val_loss: 0.0130\n",
            "Epoch 65/100\n",
            "4/4 [==============================] - 0s 16ms/step - loss: 0.0095 - val_loss: 0.0129\n",
            "Epoch 66/100\n",
            "4/4 [==============================] - 0s 16ms/step - loss: 0.0095 - val_loss: 0.0128\n",
            "Epoch 67/100\n",
            "4/4 [==============================] - 0s 17ms/step - loss: 0.0094 - val_loss: 0.0128\n",
            "Epoch 68/100\n",
            "4/4 [==============================] - 0s 15ms/step - loss: 0.0094 - val_loss: 0.0126\n",
            "Epoch 69/100\n",
            "4/4 [==============================] - 0s 20ms/step - loss: 0.0093 - val_loss: 0.0126\n",
            "Epoch 70/100\n",
            "4/4 [==============================] - 0s 24ms/step - loss: 0.0093 - val_loss: 0.0125\n",
            "Epoch 71/100\n",
            "4/4 [==============================] - 0s 17ms/step - loss: 0.0093 - val_loss: 0.0125\n",
            "Epoch 72/100\n",
            "4/4 [==============================] - 0s 15ms/step - loss: 0.0092 - val_loss: 0.0124\n",
            "Epoch 73/100\n",
            "4/4 [==============================] - 0s 15ms/step - loss: 0.0092 - val_loss: 0.0123\n",
            "Epoch 74/100\n",
            "4/4 [==============================] - 0s 15ms/step - loss: 0.0091 - val_loss: 0.0122\n",
            "Epoch 75/100\n",
            "4/4 [==============================] - 0s 16ms/step - loss: 0.0091 - val_loss: 0.0122\n",
            "Epoch 76/100\n",
            "4/4 [==============================] - 0s 16ms/step - loss: 0.0090 - val_loss: 0.0121\n",
            "Epoch 77/100\n",
            "4/4 [==============================] - 0s 16ms/step - loss: 0.0090 - val_loss: 0.0120\n",
            "Epoch 78/100\n",
            "4/4 [==============================] - 0s 16ms/step - loss: 0.0090 - val_loss: 0.0119\n",
            "Epoch 79/100\n",
            "4/4 [==============================] - 0s 16ms/step - loss: 0.0089 - val_loss: 0.0118\n",
            "Epoch 80/100\n",
            "4/4 [==============================] - 0s 16ms/step - loss: 0.0089 - val_loss: 0.0117\n",
            "Epoch 81/100\n",
            "4/4 [==============================] - 0s 19ms/step - loss: 0.0088 - val_loss: 0.0116\n",
            "Epoch 82/100\n",
            "4/4 [==============================] - 0s 16ms/step - loss: 0.0088 - val_loss: 0.0116\n",
            "Epoch 83/100\n",
            "4/4 [==============================] - 0s 16ms/step - loss: 0.0088 - val_loss: 0.0116\n",
            "Epoch 84/100\n",
            "4/4 [==============================] - 0s 22ms/step - loss: 0.0087 - val_loss: 0.0115\n",
            "Epoch 85/100\n",
            "4/4 [==============================] - 0s 16ms/step - loss: 0.0087 - val_loss: 0.0114\n",
            "Epoch 86/100\n",
            "4/4 [==============================] - 0s 15ms/step - loss: 0.0087 - val_loss: 0.0114\n",
            "Epoch 87/100\n",
            "4/4 [==============================] - 0s 15ms/step - loss: 0.0086 - val_loss: 0.0113\n",
            "Epoch 88/100\n",
            "4/4 [==============================] - 0s 16ms/step - loss: 0.0086 - val_loss: 0.0112\n",
            "Epoch 89/100\n",
            "4/4 [==============================] - 0s 17ms/step - loss: 0.0086 - val_loss: 0.0111\n",
            "Epoch 90/100\n",
            "4/4 [==============================] - 0s 19ms/step - loss: 0.0085 - val_loss: 0.0110\n",
            "Epoch 91/100\n",
            "4/4 [==============================] - 0s 19ms/step - loss: 0.0085 - val_loss: 0.0109\n",
            "Epoch 92/100\n",
            "4/4 [==============================] - 0s 18ms/step - loss: 0.0085 - val_loss: 0.0109\n",
            "Epoch 93/100\n",
            "4/4 [==============================] - 0s 17ms/step - loss: 0.0084 - val_loss: 0.0109\n",
            "Epoch 94/100\n",
            "4/4 [==============================] - 0s 17ms/step - loss: 0.0084 - val_loss: 0.0109\n",
            "Epoch 95/100\n",
            "4/4 [==============================] - 0s 16ms/step - loss: 0.0084 - val_loss: 0.0109\n",
            "Epoch 96/100\n",
            "4/4 [==============================] - 0s 16ms/step - loss: 0.0083 - val_loss: 0.0109\n",
            "Epoch 97/100\n",
            "4/4 [==============================] - 0s 19ms/step - loss: 0.0083 - val_loss: 0.0108\n",
            "Epoch 98/100\n",
            "4/4 [==============================] - 0s 16ms/step - loss: 0.0083 - val_loss: 0.0107\n",
            "Epoch 99/100\n",
            "4/4 [==============================] - 0s 26ms/step - loss: 0.0083 - val_loss: 0.0106\n",
            "Epoch 100/100\n",
            "4/4 [==============================] - 0s 17ms/step - loss: 0.0082 - val_loss: 0.0105\n"
          ]
        }
      ]
    },
    {
      "cell_type": "code",
      "source": [
        "import matplotlib.pyplot as plt\n",
        "import seaborn as sns\n",
        "\n",
        "plt.plot(history.history['loss'])\n",
        "plt.plot(history.history['val_loss'])\n",
        "plt.title('History of training')\n",
        "plt.ylabel('Loss')\n",
        "plt.xlabel('Epoch')\n",
        "plt.legend(['Train data', 'Test data'], loc=0)\n",
        "plt.show()"
      ],
      "metadata": {
        "colab": {
          "base_uri": "https://localhost:8080/",
          "height": 295
        },
        "id": "iqTFjyc5-I-e",
        "outputId": "497dfd81-c02c-4ab2-c090-ed5fcd101866"
      },
      "execution_count": null,
      "outputs": [
        {
          "output_type": "display_data",
          "data": {
            "text/plain": [
              "<Figure size 432x288 with 1 Axes>"
            ],
            "image/png": "[encoded data removed]"
          },
          "metadata": {
            "needs_background": "light"
          }
        }
      ]
    },
    {
      "cell_type": "code",
      "source": [
        "yp = model.predict(X_test)\n",
        "plt.plot(yp, label='Prediction')\n",
        "plt.plot(y_test, label='Original')\n",
        "plt.legend(loc=2)\n",
        "plt.show()"
      ],
      "metadata": {
        "colab": {
          "base_uri": "https://localhost:8080/",
          "height": 285
        },
        "id": "kCOmbq3w_1TV",
        "outputId": "e0d09819-0578-4820-b1a9-3c47f42835ca"
      },
      "execution_count": null,
      "outputs": [
        {
          "output_type": "stream",
          "name": "stdout",
          "text": [
            "1/1 [==============================] - 0s 146ms/step\n"
          ]
        },
        {
          "output_type": "display_data",
          "data": {
            "text/plain": [
              "<Figure size 432x288 with 1 Axes>"
            ],
            "image/png": "[encoded data removed]"
          },
          "metadata": {
            "needs_background": "light"
          }
        }
      ]
    },
    {
      "cell_type": "code",
      "source": [
        "yp = model.predict(X_test)\n",
        "df = pd.DataFrame()\n",
        "df['Sample'] = list(range(len(y_test))) * 2\n",
        "df['Normalized # Passengers'] = np.concatenate([y_test, yp], axis=0)\n",
        "df['Type'] = ['Original'] * len(y_test) + ['Prediction'] * len(yp)\n",
        "sns.barplot(x='Sample', y='Normalized # Passengers', hue='Type', data=df)"
      ],
      "metadata": {
        "colab": {
          "base_uri": "https://localhost:8080/",
          "height": 316
        },
        "id": "pG9mSQ8RAZnA",
        "outputId": "4a12b127-968a-4640-bc86-9f0b9904e23c"
      },
      "execution_count": null,
      "outputs": [
        {
          "output_type": "stream",
          "name": "stdout",
          "text": [
            "1/1 [==============================] - 0s 16ms/step\n"
          ]
        },
        {
          "output_type": "execute_result",
          "data": {
            "text/plain": [
              "<matplotlib.axes._subplots.AxesSubplot at 0x7fdf349004d0>"
            ]
          },
          "metadata": {},
          "execution_count": 45
        },
        {
          "output_type": "display_data",
          "data": {
            "text/plain": [
              "<Figure size 432x288 with 1 Axes>"
            ],
            "image/png": "[encoded data removed]"
          },
          "metadata": {
            "needs_background": "light"
          }
        }
      ]
    },
    {
      "cell_type": "code",
      "source": [
        "yp = model.predict(X)\n",
        "plt.plot(y, label='Original')\n",
        "plt.plot(yp, label='Prediction')\n",
        "plt.legend(loc=0)\n",
        "plt.title('All Results')\n",
        "plt.show()"
      ],
      "metadata": {
        "colab": {
          "base_uri": "https://localhost:8080/",
          "height": 300
        },
        "id": "BroeQKqVA5V2",
        "outputId": "bee5d03e-b70f-48c6-9849-fc7ddc9e70fc"
      },
      "execution_count": null,
      "outputs": [
        {
          "output_type": "stream",
          "name": "stdout",
          "text": [
            "5/5 [==============================] - 0s 3ms/step\n"
          ]
        },
        {
          "output_type": "display_data",
          "data": {
            "text/plain": [
              "<Figure size 432x288 with 1 Axes>"
            ],
            "image/png": "[encoded data removed]"
          },
          "metadata": {
            "needs_background": "light"
          }
        }
      ]
    }
  ]
}